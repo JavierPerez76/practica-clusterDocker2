{
 "cells": [
  {
   "cell_type": "code",
   "execution_count": null,
   "metadata": {
    "vscode": {
     "languageId": "plaintext"
    }
   },
   "outputs": [],
   "source": [
    "git init\n",
    "git clone https://github.com/big-data-europe/docker-hive\n",
    "\n",
    "docker-compose up -d\n",
    "docker stack deploy -c docker-compose.yml hive\n",
    "docker-compose up -d presto-coordinator\n",
    "docker-compose exec hive-server bash\n",
    "# /opt/hive/bin/beeline -u jdbc:hive2://localhost:10000\n",
    "> CREATE TABLE pokes (foo INT, bar STRING);\n",
    "> LOAD DATA LOCAL INPATH '/opt/hive/examples/files/kv1.txt' OVERWRITE INTO TABLE pokes;\n",
    "select * from pokes;"
   ]
  }
 ],
 "metadata": {
  "language_info": {
   "name": "python"
  }
 },
 "nbformat": 4,
 "nbformat_minor": 2
}
