{
 "cells": [
  {
   "cell_type": "markdown",
   "metadata": {},
   "source": [
    "1- INGESTA DE DATOS"
   ]
  },
  {
   "cell_type": "code",
   "execution_count": null,
   "metadata": {
    "vscode": {
     "languageId": "plaintext"
    }
   },
   "outputs": [],
   "source": [
    "La he realizado en el ejercicio anterior al insertar los datos en la la tabla pokes desde la terminal de hive"
   ]
  },
  {
   "cell_type": "markdown",
   "metadata": {},
   "source": [
    "2- REALIZAR CONSULTAS"
   ]
  },
  {
   "cell_type": "code",
   "execution_count": null,
   "metadata": {
    "vscode": {
     "languageId": "plaintext"
    }
   },
   "outputs": [],
   "source": [
    "Las he realizado en el ejercicio anterior"
   ]
  },
  {
   "cell_type": "markdown",
   "metadata": {},
   "source": [
    "3- CONECTAR A POWER BI"
   ]
  },
  {
   "cell_type": "code",
   "execution_count": null,
   "metadata": {
    "vscode": {
     "languageId": "plaintext"
    }
   },
   "outputs": [],
   "source": [
    "1- Obtener datos de otros orígenes\n",
    "2- escoger hive LLAP\n",
    "3- Servidor: localhost:10000\n",
    "4- Base de datos: default\n",
    "5- Protocolo de transporte thrift: Estándar\n",
    "6- Conectividad de datos: Importar\n",
    "7- Nombre de usuario: hive\n",
    "8- Contraseña: changeme"
   ]
  },
  {
   "cell_type": "markdown",
   "metadata": {},
   "source": [
    "4- CREAR VISUALIZACIONES"
   ]
  },
  {
   "cell_type": "code",
   "execution_count": null,
   "metadata": {
    "vscode": {
     "languageId": "plaintext"
    }
   },
   "outputs": [],
   "source": [
    "1- Elijo la tabla visualizacion_simple que he creado anteriormente.\n",
    "2- Escojo el gráfico de barras apiladas.\n",
    "3- Arrastro el campo categoria al eje y y el campo valores al eje x.\n",
    "4- arrastro grupo al campo leyenda."
   ]
  }
 ],
 "metadata": {
  "language_info": {
   "name": "python"
  }
 },
 "nbformat": 4,
 "nbformat_minor": 2
}
