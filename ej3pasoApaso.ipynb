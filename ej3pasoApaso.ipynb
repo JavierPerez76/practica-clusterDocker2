{
 "cells": [
  {
   "cell_type": "markdown",
   "metadata": {},
   "source": [
    "1- Obtener datos de otros orígenes\n",
    "2- escoger hive LLAP\n",
    "3- Servidor: localhost:10000\n",
    "4- Base de datos: default\n",
    "5- Protocolo de transporte thrift: Estándar\n",
    "6- Conectividad de datos: Importar\n",
    "7- Nombre de usuario: hive\n",
    "8- Contraseña: changeme"
   ]
  }
 ],
 "metadata": {
  "language_info": {
   "name": "python"
  }
 },
 "nbformat": 4,
 "nbformat_minor": 2
}
